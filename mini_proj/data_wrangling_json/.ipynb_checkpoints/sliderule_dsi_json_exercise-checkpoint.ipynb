{
 "cells": [
  {
   "cell_type": "markdown",
   "metadata": {},
   "source": [
    "# JSON examples and exercise\n",
    "****\n",
    "+ get familiar with packages for dealing with JSON\n",
    "+ study examples with JSON strings and files \n",
    "+ work on exercise to be completed and submitted \n",
    "****\n",
    "+ reference: http://pandas.pydata.org/pandas-docs/stable/io.html#io-json-reader\n",
    "****"
   ]
  },
  {
   "cell_type": "code",
   "execution_count": 1,
   "metadata": {},
   "outputs": [],
   "source": [
    "import pandas as pd\n",
    "pd.set_option('display.max_columns', 500)\n",
    "pd.set_option('display.width', 1000)"
   ]
  },
  {
   "cell_type": "markdown",
   "metadata": {},
   "source": [
    "## imports for Python, Pandas"
   ]
  },
  {
   "cell_type": "code",
   "execution_count": 2,
   "metadata": {},
   "outputs": [],
   "source": [
    "import json\n",
    "from pandas.io.json import json_normalize"
   ]
  },
  {
   "cell_type": "markdown",
   "metadata": {},
   "source": [
    "## JSON example, with string\n",
    "\n",
    "+ demonstrates creation of normalized dataframes (tables) from nested json string\n",
    "+ source: http://pandas.pydata.org/pandas-docs/stable/io.html#normalization"
   ]
  },
  {
   "cell_type": "code",
   "execution_count": 3,
   "metadata": {},
   "outputs": [],
   "source": [
    "# define json string\n",
    "data = [{'state': 'Florida', \n",
    "         'shortname': 'FL',\n",
    "         'info': {'governor': 'Rick Scott'},\n",
    "         'counties': [{'name': 'Dade', 'population': 12345},\n",
    "                      {'name': 'Broward', 'population': 40000},\n",
    "                      {'name': 'Palm Beach', 'population': 60000}]},\n",
    "        {'state': 'Ohio',\n",
    "         'shortname': 'OH',\n",
    "         'info': {'governor': 'John Kasich'},\n",
    "         'counties': [{'name': 'Summit', 'population': 1234},\n",
    "                      {'name': 'Cuyahoga', 'population': 1337}]}]"
   ]
  },
  {
   "cell_type": "code",
   "execution_count": 4,
   "metadata": {},
   "outputs": [
    {
     "data": {
      "text/plain": [
       "list"
      ]
     },
     "execution_count": 4,
     "metadata": {},
     "output_type": "execute_result"
    }
   ],
   "source": [
    "type(data)"
   ]
  },
  {
   "cell_type": "code",
   "execution_count": 5,
   "metadata": {},
   "outputs": [
    {
     "data": {
      "text/plain": [
       "{'state': 'Florida',\n",
       " 'shortname': 'FL',\n",
       " 'info': {'governor': 'Rick Scott'},\n",
       " 'counties': [{'name': 'Dade', 'population': 12345},\n",
       "  {'name': 'Broward', 'population': 40000},\n",
       "  {'name': 'Palm Beach', 'population': 60000}]}"
      ]
     },
     "execution_count": 5,
     "metadata": {},
     "output_type": "execute_result"
    }
   ],
   "source": [
    "data[0]"
   ]
  },
  {
   "cell_type": "code",
   "execution_count": 6,
   "metadata": {},
   "outputs": [
    {
     "data": {
      "text/html": [
       "<div>\n",
       "<style scoped>\n",
       "    .dataframe tbody tr th:only-of-type {\n",
       "        vertical-align: middle;\n",
       "    }\n",
       "\n",
       "    .dataframe tbody tr th {\n",
       "        vertical-align: top;\n",
       "    }\n",
       "\n",
       "    .dataframe thead th {\n",
       "        text-align: right;\n",
       "    }\n",
       "</style>\n",
       "<table border=\"1\" class=\"dataframe\">\n",
       "  <thead>\n",
       "    <tr style=\"text-align: right;\">\n",
       "      <th></th>\n",
       "      <th>name</th>\n",
       "      <th>population</th>\n",
       "    </tr>\n",
       "  </thead>\n",
       "  <tbody>\n",
       "    <tr>\n",
       "      <th>0</th>\n",
       "      <td>Dade</td>\n",
       "      <td>12345</td>\n",
       "    </tr>\n",
       "    <tr>\n",
       "      <th>1</th>\n",
       "      <td>Broward</td>\n",
       "      <td>40000</td>\n",
       "    </tr>\n",
       "    <tr>\n",
       "      <th>2</th>\n",
       "      <td>Palm Beach</td>\n",
       "      <td>60000</td>\n",
       "    </tr>\n",
       "    <tr>\n",
       "      <th>3</th>\n",
       "      <td>Summit</td>\n",
       "      <td>1234</td>\n",
       "    </tr>\n",
       "    <tr>\n",
       "      <th>4</th>\n",
       "      <td>Cuyahoga</td>\n",
       "      <td>1337</td>\n",
       "    </tr>\n",
       "  </tbody>\n",
       "</table>\n",
       "</div>"
      ],
      "text/plain": [
       "         name  population\n",
       "0        Dade       12345\n",
       "1     Broward       40000\n",
       "2  Palm Beach       60000\n",
       "3      Summit        1234\n",
       "4    Cuyahoga        1337"
      ]
     },
     "execution_count": 6,
     "metadata": {},
     "output_type": "execute_result"
    }
   ],
   "source": [
    "# use normalization to create tables from nested element\n",
    "json_normalize(data, 'counties')"
   ]
  },
  {
   "cell_type": "code",
   "execution_count": 7,
   "metadata": {},
   "outputs": [
    {
     "data": {
      "text/html": [
       "<div>\n",
       "<style scoped>\n",
       "    .dataframe tbody tr th:only-of-type {\n",
       "        vertical-align: middle;\n",
       "    }\n",
       "\n",
       "    .dataframe tbody tr th {\n",
       "        vertical-align: top;\n",
       "    }\n",
       "\n",
       "    .dataframe thead th {\n",
       "        text-align: right;\n",
       "    }\n",
       "</style>\n",
       "<table border=\"1\" class=\"dataframe\">\n",
       "  <thead>\n",
       "    <tr style=\"text-align: right;\">\n",
       "      <th></th>\n",
       "      <th>name</th>\n",
       "      <th>population</th>\n",
       "      <th>state</th>\n",
       "      <th>shortname</th>\n",
       "      <th>info.governor</th>\n",
       "    </tr>\n",
       "  </thead>\n",
       "  <tbody>\n",
       "    <tr>\n",
       "      <th>0</th>\n",
       "      <td>Dade</td>\n",
       "      <td>12345</td>\n",
       "      <td>Florida</td>\n",
       "      <td>FL</td>\n",
       "      <td>Rick Scott</td>\n",
       "    </tr>\n",
       "    <tr>\n",
       "      <th>1</th>\n",
       "      <td>Broward</td>\n",
       "      <td>40000</td>\n",
       "      <td>Florida</td>\n",
       "      <td>FL</td>\n",
       "      <td>Rick Scott</td>\n",
       "    </tr>\n",
       "    <tr>\n",
       "      <th>2</th>\n",
       "      <td>Palm Beach</td>\n",
       "      <td>60000</td>\n",
       "      <td>Florida</td>\n",
       "      <td>FL</td>\n",
       "      <td>Rick Scott</td>\n",
       "    </tr>\n",
       "    <tr>\n",
       "      <th>3</th>\n",
       "      <td>Summit</td>\n",
       "      <td>1234</td>\n",
       "      <td>Ohio</td>\n",
       "      <td>OH</td>\n",
       "      <td>John Kasich</td>\n",
       "    </tr>\n",
       "    <tr>\n",
       "      <th>4</th>\n",
       "      <td>Cuyahoga</td>\n",
       "      <td>1337</td>\n",
       "      <td>Ohio</td>\n",
       "      <td>OH</td>\n",
       "      <td>John Kasich</td>\n",
       "    </tr>\n",
       "  </tbody>\n",
       "</table>\n",
       "</div>"
      ],
      "text/plain": [
       "         name  population    state shortname info.governor\n",
       "0        Dade       12345  Florida        FL    Rick Scott\n",
       "1     Broward       40000  Florida        FL    Rick Scott\n",
       "2  Palm Beach       60000  Florida        FL    Rick Scott\n",
       "3      Summit        1234     Ohio        OH   John Kasich\n",
       "4    Cuyahoga        1337     Ohio        OH   John Kasich"
      ]
     },
     "execution_count": 7,
     "metadata": {},
     "output_type": "execute_result"
    }
   ],
   "source": [
    "# further populate tables created from nested element\n",
    "json_normalize(data, 'counties', ['state', 'shortname', ['info', 'governor']])"
   ]
  },
  {
   "cell_type": "markdown",
   "metadata": {},
   "source": [
    "****\n",
    "## JSON example, with file\n",
    "\n",
    "+ demonstrates reading in a json file as a string and as a table\n",
    "+ uses small sample file containing data about projects funded by the World Bank "
   ]
  },
  {
   "cell_type": "code",
   "execution_count": 8,
   "metadata": {},
   "outputs": [],
   "source": [
    "# load json as string\n",
    "json.load((open('data/world_bank_projects_less.json')));"
   ]
  },
  {
   "cell_type": "code",
   "execution_count": 9,
   "metadata": {},
   "outputs": [
    {
     "data": {
      "text/html": [
       "<div>\n",
       "<style scoped>\n",
       "    .dataframe tbody tr th:only-of-type {\n",
       "        vertical-align: middle;\n",
       "    }\n",
       "\n",
       "    .dataframe tbody tr th {\n",
       "        vertical-align: top;\n",
       "    }\n",
       "\n",
       "    .dataframe thead th {\n",
       "        text-align: right;\n",
       "    }\n",
       "</style>\n",
       "<table border=\"1\" class=\"dataframe\">\n",
       "  <thead>\n",
       "    <tr style=\"text-align: right;\">\n",
       "      <th></th>\n",
       "      <th>_id</th>\n",
       "      <th>approvalfy</th>\n",
       "      <th>board_approval_month</th>\n",
       "      <th>boardapprovaldate</th>\n",
       "      <th>borrower</th>\n",
       "      <th>closingdate</th>\n",
       "      <th>country_namecode</th>\n",
       "      <th>countrycode</th>\n",
       "      <th>countryname</th>\n",
       "      <th>countryshortname</th>\n",
       "      <th>docty</th>\n",
       "      <th>envassesmentcategorycode</th>\n",
       "      <th>grantamt</th>\n",
       "      <th>ibrdcommamt</th>\n",
       "      <th>id</th>\n",
       "      <th>idacommamt</th>\n",
       "      <th>impagency</th>\n",
       "      <th>lendinginstr</th>\n",
       "      <th>lendinginstrtype</th>\n",
       "      <th>lendprojectcost</th>\n",
       "      <th>majorsector_percent</th>\n",
       "      <th>mjsector_namecode</th>\n",
       "      <th>mjtheme</th>\n",
       "      <th>mjtheme_namecode</th>\n",
       "      <th>mjthemecode</th>\n",
       "      <th>prodline</th>\n",
       "      <th>prodlinetext</th>\n",
       "      <th>productlinetype</th>\n",
       "      <th>project_abstract</th>\n",
       "      <th>project_name</th>\n",
       "      <th>projectdocs</th>\n",
       "      <th>projectfinancialtype</th>\n",
       "      <th>projectstatusdisplay</th>\n",
       "      <th>regionname</th>\n",
       "      <th>sector</th>\n",
       "      <th>sector1</th>\n",
       "      <th>sector2</th>\n",
       "      <th>sector3</th>\n",
       "      <th>sector4</th>\n",
       "      <th>sector_namecode</th>\n",
       "      <th>sectorcode</th>\n",
       "      <th>source</th>\n",
       "      <th>status</th>\n",
       "      <th>supplementprojectflg</th>\n",
       "      <th>theme1</th>\n",
       "      <th>theme_namecode</th>\n",
       "      <th>themecode</th>\n",
       "      <th>totalamt</th>\n",
       "      <th>totalcommamt</th>\n",
       "      <th>url</th>\n",
       "    </tr>\n",
       "  </thead>\n",
       "  <tbody>\n",
       "    <tr>\n",
       "      <th>0</th>\n",
       "      <td>{'$oid': '52b213b38594d8a2be17c780'}</td>\n",
       "      <td>1999</td>\n",
       "      <td>November</td>\n",
       "      <td>2013-11-12T00:00:00Z</td>\n",
       "      <td>FEDERAL DEMOCRATIC REPUBLIC OF ETHIOPIA</td>\n",
       "      <td>2018-07-07T00:00:00Z</td>\n",
       "      <td>Federal Democratic Republic of Ethiopia!$!ET</td>\n",
       "      <td>ET</td>\n",
       "      <td>Federal Democratic Republic of Ethiopia</td>\n",
       "      <td>Ethiopia</td>\n",
       "      <td>Project Information Document,Indigenous People...</td>\n",
       "      <td>C</td>\n",
       "      <td>0</td>\n",
       "      <td>0</td>\n",
       "      <td>P129828</td>\n",
       "      <td>130000000</td>\n",
       "      <td>MINISTRY OF EDUCATION</td>\n",
       "      <td>Investment Project Financing</td>\n",
       "      <td>IN</td>\n",
       "      <td>550000000</td>\n",
       "      <td>[{'Name': 'Education', 'Percent': 46}, {'Name'...</td>\n",
       "      <td>[{'name': 'Education', 'code': 'EX'}, {'name':...</td>\n",
       "      <td>[Human development]</td>\n",
       "      <td>[{'name': 'Human development', 'code': '8'}, {...</td>\n",
       "      <td>8,11</td>\n",
       "      <td>PE</td>\n",
       "      <td>IBRD/IDA</td>\n",
       "      <td>L</td>\n",
       "      <td>{'cdata': 'The development objective of the Se...</td>\n",
       "      <td>Ethiopia General Education Quality Improvement...</td>\n",
       "      <td>[{'DocTypeDesc': 'Project Information Document...</td>\n",
       "      <td>IDA</td>\n",
       "      <td>Active</td>\n",
       "      <td>Africa</td>\n",
       "      <td>[{'Name': 'Primary education'}, {'Name': 'Seco...</td>\n",
       "      <td>{'Name': 'Primary education', 'Percent': 46}</td>\n",
       "      <td>{'Name': 'Secondary education', 'Percent': 26}</td>\n",
       "      <td>{'Name': 'Public administration- Other social ...</td>\n",
       "      <td>{'Name': 'Tertiary education', 'Percent': 12}</td>\n",
       "      <td>[{'name': 'Primary education', 'code': 'EP'}, ...</td>\n",
       "      <td>ET,BS,ES,EP</td>\n",
       "      <td>IBRD</td>\n",
       "      <td>Active</td>\n",
       "      <td>N</td>\n",
       "      <td>{'Name': 'Education for all', 'Percent': 100}</td>\n",
       "      <td>[{'name': 'Education for all', 'code': '65'}]</td>\n",
       "      <td>65</td>\n",
       "      <td>130000000</td>\n",
       "      <td>130000000</td>\n",
       "      <td>http://www.worldbank.org/projects/P129828/ethi...</td>\n",
       "    </tr>\n",
       "    <tr>\n",
       "      <th>1</th>\n",
       "      <td>{'$oid': '52b213b38594d8a2be17c781'}</td>\n",
       "      <td>2015</td>\n",
       "      <td>November</td>\n",
       "      <td>2013-11-04T00:00:00Z</td>\n",
       "      <td>GOVERNMENT OF TUNISIA</td>\n",
       "      <td>NaN</td>\n",
       "      <td>Republic of Tunisia!$!TN</td>\n",
       "      <td>TN</td>\n",
       "      <td>Republic of Tunisia</td>\n",
       "      <td>Tunisia</td>\n",
       "      <td>Project Information Document,Integrated Safegu...</td>\n",
       "      <td>C</td>\n",
       "      <td>4700000</td>\n",
       "      <td>0</td>\n",
       "      <td>P144674</td>\n",
       "      <td>0</td>\n",
       "      <td>MINISTRY OF FINANCE</td>\n",
       "      <td>Specific Investment Loan</td>\n",
       "      <td>IN</td>\n",
       "      <td>5700000</td>\n",
       "      <td>[{'Name': 'Public Administration, Law, and Jus...</td>\n",
       "      <td>[{'name': 'Public Administration, Law, and Jus...</td>\n",
       "      <td>[Economic management, Social protection and ri...</td>\n",
       "      <td>[{'name': 'Economic management', 'code': '1'},...</td>\n",
       "      <td>1,6</td>\n",
       "      <td>RE</td>\n",
       "      <td>Recipient Executed Activities</td>\n",
       "      <td>L</td>\n",
       "      <td>NaN</td>\n",
       "      <td>TN: DTF Social Protection Reforms Support</td>\n",
       "      <td>[{'DocTypeDesc': 'Project Information Document...</td>\n",
       "      <td>OTHER</td>\n",
       "      <td>Active</td>\n",
       "      <td>Middle East and North Africa</td>\n",
       "      <td>[{'Name': 'Public administration- Other social...</td>\n",
       "      <td>{'Name': 'Public administration- Other social ...</td>\n",
       "      <td>{'Name': 'General public administration sector...</td>\n",
       "      <td>NaN</td>\n",
       "      <td>NaN</td>\n",
       "      <td>[{'name': 'Public administration- Other social...</td>\n",
       "      <td>BZ,BS</td>\n",
       "      <td>IBRD</td>\n",
       "      <td>Active</td>\n",
       "      <td>N</td>\n",
       "      <td>{'Name': 'Other economic management', 'Percent...</td>\n",
       "      <td>[{'name': 'Other economic management', 'code':...</td>\n",
       "      <td>54,24</td>\n",
       "      <td>0</td>\n",
       "      <td>4700000</td>\n",
       "      <td>http://www.worldbank.org/projects/P144674?lang=en</td>\n",
       "    </tr>\n",
       "  </tbody>\n",
       "</table>\n",
       "</div>"
      ],
      "text/plain": [
       "                                    _id  approvalfy board_approval_month     boardapprovaldate                                 borrower           closingdate                              country_namecode countrycode                              countryname countryshortname                                              docty envassesmentcategorycode  grantamt  ibrdcommamt       id  idacommamt              impagency                  lendinginstr lendinginstrtype  lendprojectcost                                majorsector_percent                                  mjsector_namecode                                            mjtheme                                   mjtheme_namecode mjthemecode prodline                   prodlinetext productlinetype                                   project_abstract                                       project_name                                        projectdocs projectfinancialtype projectstatusdisplay                    regionname  \\\n",
       "0  {'$oid': '52b213b38594d8a2be17c780'}        1999             November  2013-11-12T00:00:00Z  FEDERAL DEMOCRATIC REPUBLIC OF ETHIOPIA  2018-07-07T00:00:00Z  Federal Democratic Republic of Ethiopia!$!ET          ET  Federal Democratic Republic of Ethiopia         Ethiopia  Project Information Document,Indigenous People...                        C         0            0  P129828   130000000  MINISTRY OF EDUCATION  Investment Project Financing               IN        550000000  [{'Name': 'Education', 'Percent': 46}, {'Name'...  [{'name': 'Education', 'code': 'EX'}, {'name':...                                [Human development]  [{'name': 'Human development', 'code': '8'}, {...        8,11       PE                       IBRD/IDA               L  {'cdata': 'The development objective of the Se...  Ethiopia General Education Quality Improvement...  [{'DocTypeDesc': 'Project Information Document...                  IDA               Active                        Africa   \n",
       "1  {'$oid': '52b213b38594d8a2be17c781'}        2015             November  2013-11-04T00:00:00Z                    GOVERNMENT OF TUNISIA                   NaN                      Republic of Tunisia!$!TN          TN                      Republic of Tunisia          Tunisia  Project Information Document,Integrated Safegu...                        C   4700000            0  P144674           0    MINISTRY OF FINANCE      Specific Investment Loan               IN          5700000  [{'Name': 'Public Administration, Law, and Jus...  [{'name': 'Public Administration, Law, and Jus...  [Economic management, Social protection and ri...  [{'name': 'Economic management', 'code': '1'},...         1,6       RE  Recipient Executed Activities               L                                                NaN          TN: DTF Social Protection Reforms Support  [{'DocTypeDesc': 'Project Information Document...                OTHER               Active  Middle East and North Africa   \n",
       "\n",
       "                                              sector                                            sector1                                            sector2                                            sector3                                        sector4                                    sector_namecode   sectorcode source  status supplementprojectflg                                             theme1                                     theme_namecode themecode   totalamt  totalcommamt                                                url  \n",
       "0  [{'Name': 'Primary education'}, {'Name': 'Seco...       {'Name': 'Primary education', 'Percent': 46}     {'Name': 'Secondary education', 'Percent': 26}  {'Name': 'Public administration- Other social ...  {'Name': 'Tertiary education', 'Percent': 12}  [{'name': 'Primary education', 'code': 'EP'}, ...  ET,BS,ES,EP   IBRD  Active                    N      {'Name': 'Education for all', 'Percent': 100}      [{'name': 'Education for all', 'code': '65'}]        65  130000000     130000000  http://www.worldbank.org/projects/P129828/ethi...  \n",
       "1  [{'Name': 'Public administration- Other social...  {'Name': 'Public administration- Other social ...  {'Name': 'General public administration sector...                                                NaN                                            NaN  [{'name': 'Public administration- Other social...        BZ,BS   IBRD  Active                    N  {'Name': 'Other economic management', 'Percent...  [{'name': 'Other economic management', 'code':...     54,24          0       4700000  http://www.worldbank.org/projects/P144674?lang=en  "
      ]
     },
     "execution_count": 9,
     "metadata": {},
     "output_type": "execute_result"
    }
   ],
   "source": [
    "# load as Pandas dataframe\n",
    "sample_json_df = pd.read_json('data/world_bank_projects_less.json')\n",
    "sample_json_df"
   ]
  },
  {
   "cell_type": "markdown",
   "metadata": {},
   "source": [
    "****\n",
    "## JSON exercise\n",
    "\n",
    "Using data in file 'data/world_bank_projects.json' and the techniques demonstrated above,\n",
    "1. Find the 10 countries with most projects\n",
    "2. Find the top 10 major project themes (using column 'mjtheme_namecode')\n",
    "3. In 2. above you will notice that some entries have only the code and the name is missing. Create a dataframe with the missing names filled in."
   ]
  },
  {
   "cell_type": "markdown",
   "metadata": {},
   "source": [
    "Loading the full dataset of the world bank project and preview the columns"
   ]
  },
  {
   "cell_type": "code",
   "execution_count": 10,
   "metadata": {},
   "outputs": [
    {
     "data": {
      "text/html": [
       "<div>\n",
       "<style scoped>\n",
       "    .dataframe tbody tr th:only-of-type {\n",
       "        vertical-align: middle;\n",
       "    }\n",
       "\n",
       "    .dataframe tbody tr th {\n",
       "        vertical-align: top;\n",
       "    }\n",
       "\n",
       "    .dataframe thead th {\n",
       "        text-align: right;\n",
       "    }\n",
       "</style>\n",
       "<table border=\"1\" class=\"dataframe\">\n",
       "  <thead>\n",
       "    <tr style=\"text-align: right;\">\n",
       "      <th></th>\n",
       "      <th>_id</th>\n",
       "      <th>approvalfy</th>\n",
       "      <th>board_approval_month</th>\n",
       "      <th>boardapprovaldate</th>\n",
       "      <th>borrower</th>\n",
       "      <th>closingdate</th>\n",
       "      <th>country_namecode</th>\n",
       "      <th>countrycode</th>\n",
       "      <th>countryname</th>\n",
       "      <th>countryshortname</th>\n",
       "      <th>docty</th>\n",
       "      <th>envassesmentcategorycode</th>\n",
       "      <th>grantamt</th>\n",
       "      <th>ibrdcommamt</th>\n",
       "      <th>id</th>\n",
       "      <th>idacommamt</th>\n",
       "      <th>impagency</th>\n",
       "      <th>lendinginstr</th>\n",
       "      <th>lendinginstrtype</th>\n",
       "      <th>lendprojectcost</th>\n",
       "      <th>majorsector_percent</th>\n",
       "      <th>mjsector_namecode</th>\n",
       "      <th>mjtheme</th>\n",
       "      <th>mjtheme_namecode</th>\n",
       "      <th>mjthemecode</th>\n",
       "      <th>prodline</th>\n",
       "      <th>prodlinetext</th>\n",
       "      <th>productlinetype</th>\n",
       "      <th>project_abstract</th>\n",
       "      <th>project_name</th>\n",
       "      <th>projectdocs</th>\n",
       "      <th>projectfinancialtype</th>\n",
       "      <th>projectstatusdisplay</th>\n",
       "      <th>regionname</th>\n",
       "      <th>sector</th>\n",
       "      <th>sector1</th>\n",
       "      <th>sector2</th>\n",
       "      <th>sector3</th>\n",
       "      <th>sector4</th>\n",
       "      <th>sector_namecode</th>\n",
       "      <th>sectorcode</th>\n",
       "      <th>source</th>\n",
       "      <th>status</th>\n",
       "      <th>supplementprojectflg</th>\n",
       "      <th>theme1</th>\n",
       "      <th>theme_namecode</th>\n",
       "      <th>themecode</th>\n",
       "      <th>totalamt</th>\n",
       "      <th>totalcommamt</th>\n",
       "      <th>url</th>\n",
       "    </tr>\n",
       "  </thead>\n",
       "  <tbody>\n",
       "    <tr>\n",
       "      <th>0</th>\n",
       "      <td>{'$oid': '52b213b38594d8a2be17c780'}</td>\n",
       "      <td>1999</td>\n",
       "      <td>November</td>\n",
       "      <td>2013-11-12T00:00:00Z</td>\n",
       "      <td>FEDERAL DEMOCRATIC REPUBLIC OF ETHIOPIA</td>\n",
       "      <td>2018-07-07T00:00:00Z</td>\n",
       "      <td>Federal Democratic Republic of Ethiopia!$!ET</td>\n",
       "      <td>ET</td>\n",
       "      <td>Federal Democratic Republic of Ethiopia</td>\n",
       "      <td>Ethiopia</td>\n",
       "      <td>Project Information Document,Indigenous People...</td>\n",
       "      <td>C</td>\n",
       "      <td>0</td>\n",
       "      <td>0</td>\n",
       "      <td>P129828</td>\n",
       "      <td>130000000</td>\n",
       "      <td>MINISTRY OF EDUCATION</td>\n",
       "      <td>Investment Project Financing</td>\n",
       "      <td>IN</td>\n",
       "      <td>550000000</td>\n",
       "      <td>[{'Percent': 46, 'Name': 'Education'}, {'Perce...</td>\n",
       "      <td>[{'code': 'EX', 'name': 'Education'}, {'code':...</td>\n",
       "      <td>[Human development]</td>\n",
       "      <td>[{'code': '8', 'name': 'Human development'}, {...</td>\n",
       "      <td>8,11</td>\n",
       "      <td>PE</td>\n",
       "      <td>IBRD/IDA</td>\n",
       "      <td>L</td>\n",
       "      <td>{'cdata': 'The development objective of the Se...</td>\n",
       "      <td>Ethiopia General Education Quality Improvement...</td>\n",
       "      <td>[{'DocDate': '28-AUG-2013', 'EntityID': '09022...</td>\n",
       "      <td>IDA</td>\n",
       "      <td>Active</td>\n",
       "      <td>Africa</td>\n",
       "      <td>[{'Name': 'Primary education'}, {'Name': 'Seco...</td>\n",
       "      <td>{'Percent': 46, 'Name': 'Primary education'}</td>\n",
       "      <td>{'Percent': 26, 'Name': 'Secondary education'}</td>\n",
       "      <td>{'Percent': 16, 'Name': 'Public administration...</td>\n",
       "      <td>{'Percent': 12, 'Name': 'Tertiary education'}</td>\n",
       "      <td>[{'code': 'EP', 'name': 'Primary education'}, ...</td>\n",
       "      <td>ET,BS,ES,EP</td>\n",
       "      <td>IBRD</td>\n",
       "      <td>Active</td>\n",
       "      <td>N</td>\n",
       "      <td>{'Percent': 100, 'Name': 'Education for all'}</td>\n",
       "      <td>[{'code': '65', 'name': 'Education for all'}]</td>\n",
       "      <td>65</td>\n",
       "      <td>130000000</td>\n",
       "      <td>130000000</td>\n",
       "      <td>http://www.worldbank.org/projects/P129828/ethi...</td>\n",
       "    </tr>\n",
       "    <tr>\n",
       "      <th>1</th>\n",
       "      <td>{'$oid': '52b213b38594d8a2be17c781'}</td>\n",
       "      <td>2015</td>\n",
       "      <td>November</td>\n",
       "      <td>2013-11-04T00:00:00Z</td>\n",
       "      <td>GOVERNMENT OF TUNISIA</td>\n",
       "      <td>NaN</td>\n",
       "      <td>Republic of Tunisia!$!TN</td>\n",
       "      <td>TN</td>\n",
       "      <td>Republic of Tunisia</td>\n",
       "      <td>Tunisia</td>\n",
       "      <td>Project Information Document,Integrated Safegu...</td>\n",
       "      <td>C</td>\n",
       "      <td>4700000</td>\n",
       "      <td>0</td>\n",
       "      <td>P144674</td>\n",
       "      <td>0</td>\n",
       "      <td>MINISTRY OF FINANCE</td>\n",
       "      <td>Specific Investment Loan</td>\n",
       "      <td>IN</td>\n",
       "      <td>5700000</td>\n",
       "      <td>[{'Percent': 70, 'Name': 'Public Administratio...</td>\n",
       "      <td>[{'code': 'BX', 'name': 'Public Administration...</td>\n",
       "      <td>[Economic management, Social protection and ri...</td>\n",
       "      <td>[{'code': '1', 'name': 'Economic management'},...</td>\n",
       "      <td>1,6</td>\n",
       "      <td>RE</td>\n",
       "      <td>Recipient Executed Activities</td>\n",
       "      <td>L</td>\n",
       "      <td>NaN</td>\n",
       "      <td>TN: DTF Social Protection Reforms Support</td>\n",
       "      <td>[{'DocDate': '29-MAR-2013', 'EntityID': '00033...</td>\n",
       "      <td>OTHER</td>\n",
       "      <td>Active</td>\n",
       "      <td>Middle East and North Africa</td>\n",
       "      <td>[{'Name': 'Public administration- Other social...</td>\n",
       "      <td>{'Percent': 70, 'Name': 'Public administration...</td>\n",
       "      <td>{'Percent': 30, 'Name': 'General public admini...</td>\n",
       "      <td>NaN</td>\n",
       "      <td>NaN</td>\n",
       "      <td>[{'code': 'BS', 'name': 'Public administration...</td>\n",
       "      <td>BZ,BS</td>\n",
       "      <td>IBRD</td>\n",
       "      <td>Active</td>\n",
       "      <td>N</td>\n",
       "      <td>{'Percent': 30, 'Name': 'Other economic manage...</td>\n",
       "      <td>[{'code': '24', 'name': 'Other economic manage...</td>\n",
       "      <td>54,24</td>\n",
       "      <td>0</td>\n",
       "      <td>4700000</td>\n",
       "      <td>http://www.worldbank.org/projects/P144674?lang=en</td>\n",
       "    </tr>\n",
       "    <tr>\n",
       "      <th>2</th>\n",
       "      <td>{'$oid': '52b213b38594d8a2be17c782'}</td>\n",
       "      <td>2014</td>\n",
       "      <td>November</td>\n",
       "      <td>2013-11-01T00:00:00Z</td>\n",
       "      <td>MINISTRY OF FINANCE AND ECONOMIC DEVEL</td>\n",
       "      <td>NaN</td>\n",
       "      <td>Tuvalu!$!TV</td>\n",
       "      <td>TV</td>\n",
       "      <td>Tuvalu</td>\n",
       "      <td>Tuvalu</td>\n",
       "      <td>Resettlement Plan,Environmental Assessment,Int...</td>\n",
       "      <td>B</td>\n",
       "      <td>0</td>\n",
       "      <td>0</td>\n",
       "      <td>P145310</td>\n",
       "      <td>6060000</td>\n",
       "      <td>MINISTRY OF TRANSPORT AND COMMUNICATIONS</td>\n",
       "      <td>Investment Project Financing</td>\n",
       "      <td>IN</td>\n",
       "      <td>6060000</td>\n",
       "      <td>[{'Percent': 100, 'Name': 'Transportation'}]</td>\n",
       "      <td>[{'code': 'TX', 'name': 'Transportation'}]</td>\n",
       "      <td>[Trade and integration, Public sector governan...</td>\n",
       "      <td>[{'code': '5', 'name': 'Trade and integration'...</td>\n",
       "      <td>5,2,11,6</td>\n",
       "      <td>PE</td>\n",
       "      <td>IBRD/IDA</td>\n",
       "      <td>L</td>\n",
       "      <td>NaN</td>\n",
       "      <td>Tuvalu Aviation Investment Project - Additiona...</td>\n",
       "      <td>[{'DocDate': '21-OCT-2013', 'EntityID': '00033...</td>\n",
       "      <td>IDA</td>\n",
       "      <td>Active</td>\n",
       "      <td>East Asia and Pacific</td>\n",
       "      <td>[{'Name': 'Rural and Inter-Urban Roads and Hig...</td>\n",
       "      <td>{'Percent': 100, 'Name': 'Rural and Inter-Urba...</td>\n",
       "      <td>NaN</td>\n",
       "      <td>NaN</td>\n",
       "      <td>NaN</td>\n",
       "      <td>[{'code': 'TI', 'name': 'Rural and Inter-Urban...</td>\n",
       "      <td>TI</td>\n",
       "      <td>IBRD</td>\n",
       "      <td>Active</td>\n",
       "      <td>Y</td>\n",
       "      <td>{'Percent': 46, 'Name': 'Regional integration'}</td>\n",
       "      <td>[{'code': '47', 'name': 'Regional integration'...</td>\n",
       "      <td>52,81,25,47</td>\n",
       "      <td>6060000</td>\n",
       "      <td>6060000</td>\n",
       "      <td>http://www.worldbank.org/projects/P145310?lang=en</td>\n",
       "    </tr>\n",
       "    <tr>\n",
       "      <th>3</th>\n",
       "      <td>{'$oid': '52b213b38594d8a2be17c783'}</td>\n",
       "      <td>2014</td>\n",
       "      <td>October</td>\n",
       "      <td>2013-10-31T00:00:00Z</td>\n",
       "      <td>MIN. OF PLANNING AND INT'L COOPERATION</td>\n",
       "      <td>NaN</td>\n",
       "      <td>Republic of Yemen!$!RY</td>\n",
       "      <td>RY</td>\n",
       "      <td>Republic of Yemen</td>\n",
       "      <td>Yemen, Republic of</td>\n",
       "      <td>Procurement Plan,Project Information Document,...</td>\n",
       "      <td>C</td>\n",
       "      <td>1500000</td>\n",
       "      <td>0</td>\n",
       "      <td>P144665</td>\n",
       "      <td>0</td>\n",
       "      <td>LABOR INTENSIVE PUBLIC WORKS PROJECT PMU</td>\n",
       "      <td>Technical Assistance Loan</td>\n",
       "      <td>IN</td>\n",
       "      <td>1500000</td>\n",
       "      <td>[{'Percent': 100, 'Name': 'Health and other so...</td>\n",
       "      <td>[{'code': 'JX', 'name': 'Health and other soci...</td>\n",
       "      <td>[Social dev/gender/inclusion, Social dev/gende...</td>\n",
       "      <td>[{'code': '7', 'name': 'Social dev/gender/incl...</td>\n",
       "      <td>7,7</td>\n",
       "      <td>RE</td>\n",
       "      <td>Recipient Executed Activities</td>\n",
       "      <td>L</td>\n",
       "      <td>NaN</td>\n",
       "      <td>Gov't and Civil Society Organization Partnership</td>\n",
       "      <td>[{'DocDate': '15-MAY-2013', 'EntityID': '00035...</td>\n",
       "      <td>OTHER</td>\n",
       "      <td>Active</td>\n",
       "      <td>Middle East and North Africa</td>\n",
       "      <td>[{'Name': 'Other social services'}]</td>\n",
       "      <td>{'Percent': 100, 'Name': 'Other social services'}</td>\n",
       "      <td>NaN</td>\n",
       "      <td>NaN</td>\n",
       "      <td>NaN</td>\n",
       "      <td>[{'code': 'JB', 'name': 'Other social services'}]</td>\n",
       "      <td>JB</td>\n",
       "      <td>IBRD</td>\n",
       "      <td>Active</td>\n",
       "      <td>N</td>\n",
       "      <td>{'Percent': 50, 'Name': 'Participation and civ...</td>\n",
       "      <td>[{'code': '57', 'name': 'Participation and civ...</td>\n",
       "      <td>59,57</td>\n",
       "      <td>0</td>\n",
       "      <td>1500000</td>\n",
       "      <td>http://www.worldbank.org/projects/P144665?lang=en</td>\n",
       "    </tr>\n",
       "    <tr>\n",
       "      <th>4</th>\n",
       "      <td>{'$oid': '52b213b38594d8a2be17c784'}</td>\n",
       "      <td>2014</td>\n",
       "      <td>October</td>\n",
       "      <td>2013-10-31T00:00:00Z</td>\n",
       "      <td>MINISTRY OF FINANCE</td>\n",
       "      <td>2019-04-30T00:00:00Z</td>\n",
       "      <td>Kingdom of Lesotho!$!LS</td>\n",
       "      <td>LS</td>\n",
       "      <td>Kingdom of Lesotho</td>\n",
       "      <td>Lesotho</td>\n",
       "      <td>Project Information Document,Integrated Safegu...</td>\n",
       "      <td>B</td>\n",
       "      <td>0</td>\n",
       "      <td>0</td>\n",
       "      <td>P144933</td>\n",
       "      <td>13100000</td>\n",
       "      <td>MINISTRY OF TRADE AND INDUSTRY</td>\n",
       "      <td>Investment Project Financing</td>\n",
       "      <td>IN</td>\n",
       "      <td>15000000</td>\n",
       "      <td>[{'Percent': 50, 'Name': 'Industry and trade'}...</td>\n",
       "      <td>[{'code': 'YX', 'name': 'Industry and trade'},...</td>\n",
       "      <td>[Trade and integration, Financial and private ...</td>\n",
       "      <td>[{'code': '5', 'name': 'Trade and integration'...</td>\n",
       "      <td>5,4</td>\n",
       "      <td>PE</td>\n",
       "      <td>IBRD/IDA</td>\n",
       "      <td>L</td>\n",
       "      <td>{'cdata': 'The development objective of the Se...</td>\n",
       "      <td>Second Private Sector Competitiveness and Econ...</td>\n",
       "      <td>[{'DocDate': '06-SEP-2013', 'EntityID': '09022...</td>\n",
       "      <td>IDA</td>\n",
       "      <td>Active</td>\n",
       "      <td>Africa</td>\n",
       "      <td>[{'Name': 'General industry and trade sector'}...</td>\n",
       "      <td>{'Percent': 50, 'Name': 'General industry and ...</td>\n",
       "      <td>{'Percent': 40, 'Name': 'Other industry'}</td>\n",
       "      <td>{'Percent': 10, 'Name': 'SME Finance'}</td>\n",
       "      <td>NaN</td>\n",
       "      <td>[{'code': 'YZ', 'name': 'General industry and ...</td>\n",
       "      <td>FH,YW,YZ</td>\n",
       "      <td>IBRD</td>\n",
       "      <td>Active</td>\n",
       "      <td>N</td>\n",
       "      <td>{'Percent': 30, 'Name': 'Export development an...</td>\n",
       "      <td>[{'code': '45', 'name': 'Export development an...</td>\n",
       "      <td>41,45</td>\n",
       "      <td>13100000</td>\n",
       "      <td>13100000</td>\n",
       "      <td>http://www.worldbank.org/projects/P144933/seco...</td>\n",
       "    </tr>\n",
       "  </tbody>\n",
       "</table>\n",
       "</div>"
      ],
      "text/plain": [
       "                                    _id  approvalfy board_approval_month     boardapprovaldate                                 borrower           closingdate                              country_namecode countrycode                              countryname    countryshortname                                              docty envassesmentcategorycode  grantamt  ibrdcommamt       id  idacommamt                                 impagency                  lendinginstr lendinginstrtype  lendprojectcost                                majorsector_percent                                  mjsector_namecode                                            mjtheme                                   mjtheme_namecode mjthemecode prodline                   prodlinetext productlinetype                                   project_abstract                                       project_name                                        projectdocs projectfinancialtype projectstatusdisplay  \\\n",
       "0  {'$oid': '52b213b38594d8a2be17c780'}        1999             November  2013-11-12T00:00:00Z  FEDERAL DEMOCRATIC REPUBLIC OF ETHIOPIA  2018-07-07T00:00:00Z  Federal Democratic Republic of Ethiopia!$!ET          ET  Federal Democratic Republic of Ethiopia            Ethiopia  Project Information Document,Indigenous People...                        C         0            0  P129828   130000000                     MINISTRY OF EDUCATION  Investment Project Financing               IN        550000000  [{'Percent': 46, 'Name': 'Education'}, {'Perce...  [{'code': 'EX', 'name': 'Education'}, {'code':...                                [Human development]  [{'code': '8', 'name': 'Human development'}, {...        8,11       PE                       IBRD/IDA               L  {'cdata': 'The development objective of the Se...  Ethiopia General Education Quality Improvement...  [{'DocDate': '28-AUG-2013', 'EntityID': '09022...                  IDA               Active   \n",
       "1  {'$oid': '52b213b38594d8a2be17c781'}        2015             November  2013-11-04T00:00:00Z                    GOVERNMENT OF TUNISIA                   NaN                      Republic of Tunisia!$!TN          TN                      Republic of Tunisia             Tunisia  Project Information Document,Integrated Safegu...                        C   4700000            0  P144674           0                       MINISTRY OF FINANCE      Specific Investment Loan               IN          5700000  [{'Percent': 70, 'Name': 'Public Administratio...  [{'code': 'BX', 'name': 'Public Administration...  [Economic management, Social protection and ri...  [{'code': '1', 'name': 'Economic management'},...         1,6       RE  Recipient Executed Activities               L                                                NaN          TN: DTF Social Protection Reforms Support  [{'DocDate': '29-MAR-2013', 'EntityID': '00033...                OTHER               Active   \n",
       "2  {'$oid': '52b213b38594d8a2be17c782'}        2014             November  2013-11-01T00:00:00Z   MINISTRY OF FINANCE AND ECONOMIC DEVEL                   NaN                                   Tuvalu!$!TV          TV                                   Tuvalu              Tuvalu  Resettlement Plan,Environmental Assessment,Int...                        B         0            0  P145310     6060000  MINISTRY OF TRANSPORT AND COMMUNICATIONS  Investment Project Financing               IN          6060000       [{'Percent': 100, 'Name': 'Transportation'}]         [{'code': 'TX', 'name': 'Transportation'}]  [Trade and integration, Public sector governan...  [{'code': '5', 'name': 'Trade and integration'...    5,2,11,6       PE                       IBRD/IDA               L                                                NaN  Tuvalu Aviation Investment Project - Additiona...  [{'DocDate': '21-OCT-2013', 'EntityID': '00033...                  IDA               Active   \n",
       "3  {'$oid': '52b213b38594d8a2be17c783'}        2014              October  2013-10-31T00:00:00Z   MIN. OF PLANNING AND INT'L COOPERATION                   NaN                        Republic of Yemen!$!RY          RY                        Republic of Yemen  Yemen, Republic of  Procurement Plan,Project Information Document,...                        C   1500000            0  P144665           0  LABOR INTENSIVE PUBLIC WORKS PROJECT PMU     Technical Assistance Loan               IN          1500000  [{'Percent': 100, 'Name': 'Health and other so...  [{'code': 'JX', 'name': 'Health and other soci...  [Social dev/gender/inclusion, Social dev/gende...  [{'code': '7', 'name': 'Social dev/gender/incl...         7,7       RE  Recipient Executed Activities               L                                                NaN   Gov't and Civil Society Organization Partnership  [{'DocDate': '15-MAY-2013', 'EntityID': '00035...                OTHER               Active   \n",
       "4  {'$oid': '52b213b38594d8a2be17c784'}        2014              October  2013-10-31T00:00:00Z                      MINISTRY OF FINANCE  2019-04-30T00:00:00Z                       Kingdom of Lesotho!$!LS          LS                       Kingdom of Lesotho             Lesotho  Project Information Document,Integrated Safegu...                        B         0            0  P144933    13100000            MINISTRY OF TRADE AND INDUSTRY  Investment Project Financing               IN         15000000  [{'Percent': 50, 'Name': 'Industry and trade'}...  [{'code': 'YX', 'name': 'Industry and trade'},...  [Trade and integration, Financial and private ...  [{'code': '5', 'name': 'Trade and integration'...         5,4       PE                       IBRD/IDA               L  {'cdata': 'The development objective of the Se...  Second Private Sector Competitiveness and Econ...  [{'DocDate': '06-SEP-2013', 'EntityID': '09022...                  IDA               Active   \n",
       "\n",
       "                     regionname                                             sector                                            sector1                                            sector2                                            sector3                                        sector4                                    sector_namecode   sectorcode source  status supplementprojectflg                                             theme1                                     theme_namecode    themecode   totalamt  totalcommamt                                                url  \n",
       "0                        Africa  [{'Name': 'Primary education'}, {'Name': 'Seco...       {'Percent': 46, 'Name': 'Primary education'}     {'Percent': 26, 'Name': 'Secondary education'}  {'Percent': 16, 'Name': 'Public administration...  {'Percent': 12, 'Name': 'Tertiary education'}  [{'code': 'EP', 'name': 'Primary education'}, ...  ET,BS,ES,EP   IBRD  Active                    N      {'Percent': 100, 'Name': 'Education for all'}      [{'code': '65', 'name': 'Education for all'}]           65  130000000     130000000  http://www.worldbank.org/projects/P129828/ethi...  \n",
       "1  Middle East and North Africa  [{'Name': 'Public administration- Other social...  {'Percent': 70, 'Name': 'Public administration...  {'Percent': 30, 'Name': 'General public admini...                                                NaN                                            NaN  [{'code': 'BS', 'name': 'Public administration...        BZ,BS   IBRD  Active                    N  {'Percent': 30, 'Name': 'Other economic manage...  [{'code': '24', 'name': 'Other economic manage...        54,24          0       4700000  http://www.worldbank.org/projects/P144674?lang=en  \n",
       "2         East Asia and Pacific  [{'Name': 'Rural and Inter-Urban Roads and Hig...  {'Percent': 100, 'Name': 'Rural and Inter-Urba...                                                NaN                                                NaN                                            NaN  [{'code': 'TI', 'name': 'Rural and Inter-Urban...           TI   IBRD  Active                    Y    {'Percent': 46, 'Name': 'Regional integration'}  [{'code': '47', 'name': 'Regional integration'...  52,81,25,47    6060000       6060000  http://www.worldbank.org/projects/P145310?lang=en  \n",
       "3  Middle East and North Africa                [{'Name': 'Other social services'}]  {'Percent': 100, 'Name': 'Other social services'}                                                NaN                                                NaN                                            NaN  [{'code': 'JB', 'name': 'Other social services'}]           JB   IBRD  Active                    N  {'Percent': 50, 'Name': 'Participation and civ...  [{'code': '57', 'name': 'Participation and civ...        59,57          0       1500000  http://www.worldbank.org/projects/P144665?lang=en  \n",
       "4                        Africa  [{'Name': 'General industry and trade sector'}...  {'Percent': 50, 'Name': 'General industry and ...          {'Percent': 40, 'Name': 'Other industry'}             {'Percent': 10, 'Name': 'SME Finance'}                                            NaN  [{'code': 'YZ', 'name': 'General industry and ...     FH,YW,YZ   IBRD  Active                    N  {'Percent': 30, 'Name': 'Export development an...  [{'code': '45', 'name': 'Export development an...        41,45   13100000      13100000  http://www.worldbank.org/projects/P144933/seco...  "
      ]
     },
     "execution_count": 10,
     "metadata": {},
     "output_type": "execute_result"
    }
   ],
   "source": [
    "json.load((open('data/world_bank_projects.json')))\n",
    "df = pd.read_json('data/world_bank_projects.json')\n",
    "df.head()"
   ]
  },
  {
   "cell_type": "code",
   "execution_count": 11,
   "metadata": {},
   "outputs": [
    {
     "name": "stdout",
     "output_type": "stream",
     "text": [
      "<class 'pandas.core.frame.DataFrame'>\n",
      "RangeIndex: 500 entries, 0 to 499\n",
      "Data columns (total 50 columns):\n",
      "_id                         500 non-null object\n",
      "approvalfy                  500 non-null int64\n",
      "board_approval_month        500 non-null object\n",
      "boardapprovaldate           500 non-null object\n",
      "borrower                    485 non-null object\n",
      "closingdate                 370 non-null object\n",
      "country_namecode            500 non-null object\n",
      "countrycode                 500 non-null object\n",
      "countryname                 500 non-null object\n",
      "countryshortname            500 non-null object\n",
      "docty                       446 non-null object\n",
      "envassesmentcategorycode    430 non-null object\n",
      "grantamt                    500 non-null int64\n",
      "ibrdcommamt                 500 non-null int64\n",
      "id                          500 non-null object\n",
      "idacommamt                  500 non-null int64\n",
      "impagency                   472 non-null object\n",
      "lendinginstr                495 non-null object\n",
      "lendinginstrtype            495 non-null object\n",
      "lendprojectcost             500 non-null int64\n",
      "majorsector_percent         500 non-null object\n",
      "mjsector_namecode           500 non-null object\n",
      "mjtheme                     491 non-null object\n",
      "mjtheme_namecode            500 non-null object\n",
      "mjthemecode                 500 non-null object\n",
      "prodline                    500 non-null object\n",
      "prodlinetext                500 non-null object\n",
      "productlinetype             500 non-null object\n",
      "project_abstract            362 non-null object\n",
      "project_name                500 non-null object\n",
      "projectdocs                 446 non-null object\n",
      "projectfinancialtype        500 non-null object\n",
      "projectstatusdisplay        500 non-null object\n",
      "regionname                  500 non-null object\n",
      "sector                      500 non-null object\n",
      "sector1                     500 non-null object\n",
      "sector2                     380 non-null object\n",
      "sector3                     265 non-null object\n",
      "sector4                     174 non-null object\n",
      "sector_namecode             500 non-null object\n",
      "sectorcode                  500 non-null object\n",
      "source                      500 non-null object\n",
      "status                      500 non-null object\n",
      "supplementprojectflg        498 non-null object\n",
      "theme1                      500 non-null object\n",
      "theme_namecode              491 non-null object\n",
      "themecode                   491 non-null object\n",
      "totalamt                    500 non-null int64\n",
      "totalcommamt                500 non-null int64\n",
      "url                         500 non-null object\n",
      "dtypes: int64(7), object(43)\n",
      "memory usage: 195.4+ KB\n"
     ]
    }
   ],
   "source": [
    "df.info() #check columns that may have missing values"
   ]
  },
  {
   "cell_type": "markdown",
   "metadata": {},
   "source": [
    "**Q1**: 10 countries with most projects. Each line represents one project. We will perform a simple value count by countryname and the top 10"
   ]
  },
  {
   "cell_type": "code",
   "execution_count": 12,
   "metadata": {},
   "outputs": [
    {
     "data": {
      "text/plain": [
       "People's Republic of China         19\n",
       "Republic of Indonesia              19\n",
       "Socialist Republic of Vietnam      17\n",
       "Republic of India                  16\n",
       "Republic of Yemen                  13\n",
       "Kingdom of Morocco                 12\n",
       "Nepal                              12\n",
       "People's Republic of Bangladesh    12\n",
       "Republic of Mozambique             11\n",
       "Africa                             11\n",
       "Name: countryname, dtype: int64"
      ]
     },
     "execution_count": 12,
     "metadata": {},
     "output_type": "execute_result"
    }
   ],
   "source": [
    "df['countryname'].value_counts().head(10)"
   ]
  },
  {
   "cell_type": "markdown",
   "metadata": {},
   "source": [
    "**Q2+Q3**: Top 10 project theme. The attribute mjtheme_namecode dose not appear to have missing record. Let example the data structure of that."
   ]
  },
  {
   "cell_type": "code",
   "execution_count": 13,
   "metadata": {},
   "outputs": [
    {
     "data": {
      "text/plain": [
       "0    [{'code': '8', 'name': 'Human development'}, {...\n",
       "1    [{'code': '1', 'name': 'Economic management'},...\n",
       "2    [{'code': '5', 'name': 'Trade and integration'...\n",
       "3    [{'code': '7', 'name': 'Social dev/gender/incl...\n",
       "4    [{'code': '5', 'name': 'Trade and integration'...\n",
       "Name: mjtheme_namecode, dtype: object"
      ]
     },
     "execution_count": 13,
     "metadata": {},
     "output_type": "execute_result"
    }
   ],
   "source": [
    "df['mjtheme_namecode'].head()"
   ]
  },
  {
   "cell_type": "markdown",
   "metadata": {},
   "source": [
    "Data structure is in form of a list of dictionary. Each record may have more than one theme attached. We will need to use json_normalize function as showed above. First, we will need to use jason.load function to read off the data"
   ]
  },
  {
   "cell_type": "code",
   "execution_count": 14,
   "metadata": {},
   "outputs": [],
   "source": [
    "with open('data/world_bank_projects.json') as f:\n",
    "    raw = json.load(f)"
   ]
  },
  {
   "cell_type": "code",
   "execution_count": 15,
   "metadata": {},
   "outputs": [],
   "source": [
    "projtheme = json_normalize(raw, 'mjtheme_namecode')"
   ]
  },
  {
   "cell_type": "code",
   "execution_count": 16,
   "metadata": {},
   "outputs": [
    {
     "data": {
      "text/html": [
       "<div>\n",
       "<style scoped>\n",
       "    .dataframe tbody tr th:only-of-type {\n",
       "        vertical-align: middle;\n",
       "    }\n",
       "\n",
       "    .dataframe tbody tr th {\n",
       "        vertical-align: top;\n",
       "    }\n",
       "\n",
       "    .dataframe thead th {\n",
       "        text-align: right;\n",
       "    }\n",
       "</style>\n",
       "<table border=\"1\" class=\"dataframe\">\n",
       "  <thead>\n",
       "    <tr style=\"text-align: right;\">\n",
       "      <th></th>\n",
       "      <th>code</th>\n",
       "      <th>name</th>\n",
       "    </tr>\n",
       "  </thead>\n",
       "  <tbody>\n",
       "    <tr>\n",
       "      <th>0</th>\n",
       "      <td>8</td>\n",
       "      <td>Human development</td>\n",
       "    </tr>\n",
       "    <tr>\n",
       "      <th>1</th>\n",
       "      <td>11</td>\n",
       "      <td></td>\n",
       "    </tr>\n",
       "    <tr>\n",
       "      <th>2</th>\n",
       "      <td>1</td>\n",
       "      <td>Economic management</td>\n",
       "    </tr>\n",
       "    <tr>\n",
       "      <th>3</th>\n",
       "      <td>6</td>\n",
       "      <td>Social protection and risk management</td>\n",
       "    </tr>\n",
       "    <tr>\n",
       "      <th>4</th>\n",
       "      <td>5</td>\n",
       "      <td>Trade and integration</td>\n",
       "    </tr>\n",
       "  </tbody>\n",
       "</table>\n",
       "</div>"
      ],
      "text/plain": [
       "  code                                   name\n",
       "0    8                      Human development\n",
       "1   11                                       \n",
       "2    1                    Economic management\n",
       "3    6  Social protection and risk management\n",
       "4    5                  Trade and integration"
      ]
     },
     "execution_count": 16,
     "metadata": {},
     "output_type": "execute_result"
    }
   ],
   "source": [
    "projtheme.head()"
   ]
  },
  {
   "cell_type": "markdown",
   "metadata": {},
   "source": [
    "Notice that some rows have missing names. The code data column data seem complete"
   ]
  },
  {
   "cell_type": "code",
   "execution_count": 17,
   "metadata": {},
   "outputs": [
    {
     "name": "stdout",
     "output_type": "stream",
     "text": [
      "['8' '11' '1' '6' '5' '2' '7' '4' '10' '9' '3']\n",
      "['Human development' '' 'Economic management'\n",
      " 'Social protection and risk management' 'Trade and integration'\n",
      " 'Public sector governance' 'Environment and natural resources management'\n",
      " 'Social dev/gender/inclusion' 'Financial and private sector development'\n",
      " 'Rural development' 'Urban development' 'Rule of law']\n",
      "Number of code: 11\n",
      "Number of name: 12\n"
     ]
    }
   ],
   "source": [
    "print(projtheme['code'].unique())\n",
    "print(projtheme['name'].unique())\n",
    "print('Number of code:', len(set(projtheme['code'])))\n",
    "print('Number of name:', len(set(projtheme['name'])))"
   ]
  },
  {
   "cell_type": "markdown",
   "metadata": {},
   "source": [
    "In total, there are 122 rows with missing name"
   ]
  },
  {
   "cell_type": "code",
   "execution_count": 18,
   "metadata": {},
   "outputs": [
    {
     "data": {
      "text/plain": [
       "code    122\n",
       "name    122\n",
       "dtype: int64"
      ]
     },
     "execution_count": 18,
     "metadata": {},
     "output_type": "execute_result"
    }
   ],
   "source": [
    "projtheme[projtheme['name']==''].count()"
   ]
  },
  {
   "cell_type": "markdown",
   "metadata": {},
   "source": [
    "We will solve the missing values by creating a dictionary that match code and name, then map it back to the data frame"
   ]
  },
  {
   "cell_type": "code",
   "execution_count": 19,
   "metadata": {},
   "outputs": [],
   "source": [
    "# only keep rows that have data in both name and code\n",
    "code_match = projtheme[projtheme['name']!='']"
   ]
  },
  {
   "cell_type": "code",
   "execution_count": 20,
   "metadata": {},
   "outputs": [],
   "source": [
    "# Create the dictionary that matches code and name\n",
    "code_match_dict =code_match.set_index('code')['name'].to_dict()"
   ]
  },
  {
   "cell_type": "code",
   "execution_count": 21,
   "metadata": {},
   "outputs": [],
   "source": [
    "# Create a copy of the original dataframe \n",
    "projtheme_clean = projtheme.copy()\n",
    "# fill the missing value under name column with the dictionary just created\n",
    "projtheme_clean['name'] = projtheme_clean['code'].map(code_match_dict).fillna(projtheme_clean['code'])"
   ]
  },
  {
   "cell_type": "code",
   "execution_count": 22,
   "metadata": {},
   "outputs": [
    {
     "data": {
      "text/plain": [
       "array(['Human development',\n",
       "       'Environment and natural resources management',\n",
       "       'Economic management', 'Social protection and risk management',\n",
       "       'Trade and integration', 'Public sector governance',\n",
       "       'Social dev/gender/inclusion',\n",
       "       'Financial and private sector development', 'Rural development',\n",
       "       'Urban development', 'Rule of law'], dtype=object)"
      ]
     },
     "execution_count": 22,
     "metadata": {},
     "output_type": "execute_result"
    }
   ],
   "source": [
    "# Check name categories and confirm no missing values\n",
    "projtheme_clean['name'].unique()"
   ]
  },
  {
   "cell_type": "code",
   "execution_count": 23,
   "metadata": {
    "scrolled": true
   },
   "outputs": [
    {
     "data": {
      "text/plain": [
       "Environment and natural resources management    250\n",
       "Rural development                               216\n",
       "Human development                               210\n",
       "Public sector governance                        199\n",
       "Social protection and risk management           168\n",
       "Financial and private sector development        146\n",
       "Social dev/gender/inclusion                     130\n",
       "Trade and integration                            77\n",
       "Urban development                                50\n",
       "Economic management                              38\n",
       "Name: name, dtype: int64"
      ]
     },
     "execution_count": 23,
     "metadata": {},
     "output_type": "execute_result"
    }
   ],
   "source": [
    "# Using value count to get the top 10 project theme\n",
    "projtheme_clean['name'].value_counts().head(10)"
   ]
  }
 ],
 "metadata": {
  "kernelspec": {
   "display_name": "Python 3",
   "language": "python",
   "name": "python3"
  },
  "language_info": {
   "codemirror_mode": {
    "name": "ipython",
    "version": 3
   },
   "file_extension": ".py",
   "mimetype": "text/x-python",
   "name": "python",
   "nbconvert_exporter": "python",
   "pygments_lexer": "ipython3",
   "version": "3.7.3"
  }
 },
 "nbformat": 4,
 "nbformat_minor": 1
}
