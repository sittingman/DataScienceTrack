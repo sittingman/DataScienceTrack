{
 "cells": [
  {
   "cell_type": "markdown",
   "metadata": {},
   "source": [
    "## 3 Project Ideas for Capstone"
   ]
  },
  {
   "cell_type": "markdown",
   "metadata": {},
   "source": [
    "### Project 1\n",
    "\n",
    "Predict economic GDP growth by drawing correlation among factor such as Unemployment, Saving, Government Spending. The final will be a predictive model that client can use to play out GDP growth by changing different assumptions components.\n",
    "\n",
    "**Problem** \n",
    "\n",
    "**Clients**  \n",
    "\n",
    "**Dataset** - \n",
    "\n",
    "**Problem solving outline**\n",
    "\n",
    "**Deliverables**"
   ]
  },
  {
   "cell_type": "markdown",
   "metadata": {},
   "source": [
    "### Project 2\n",
    "\n",
    "Identify important factors on hindering global literacy and provide recommendation on achieving Sustainable Goal 4 (*Ensure inclusive and equitable quality education and promote lifelong learning opportunities for all*)\n",
    "\n",
    "**Problem** \n",
    "\n",
    "**Clients**  \n",
    "\n",
    "**Dataset** - \n",
    "\n",
    "**Problem solving outline**\n",
    "\n",
    "**Deliverables**"
   ]
  },
  {
   "cell_type": "markdown",
   "metadata": {},
   "source": [
    "### Project 3\n",
    "\n",
    "Sales forecast for Rossmann \n",
    "\n",
    "**Problem** \n",
    "\n",
    "**Clients**  \n",
    "\n",
    "**Dataset** - \n",
    "\n",
    "**Problem solving outline**\n",
    "\n",
    "**Deliverables**"
   ]
  },
  {
   "cell_type": "code",
   "execution_count": null,
   "metadata": {},
   "outputs": [],
   "source": []
  }
 ],
 "metadata": {
  "kernelspec": {
   "display_name": "Python 3",
   "language": "python",
   "name": "python3"
  },
  "language_info": {
   "codemirror_mode": {
    "name": "ipython",
    "version": 3
   },
   "file_extension": ".py",
   "mimetype": "text/x-python",
   "name": "python",
   "nbconvert_exporter": "python",
   "pygments_lexer": "ipython3",
   "version": "3.7.3"
  }
 },
 "nbformat": 4,
 "nbformat_minor": 2
}
